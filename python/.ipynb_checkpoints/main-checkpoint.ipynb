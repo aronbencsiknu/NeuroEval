{
  "cells": [
    {
      "cell_type": "markdown",
      "metadata": {
        "id": "BKL53y3WsqwM"
      },
      "source": [
        "## Imports"
      ]
    },
    {
      "cell_type": "code",
      "execution_count": null,
      "metadata": {
        "id": "MJfambYlmHQI"
      },
      "outputs": [
        {
          "ename": "",
          "evalue": "",
          "output_type": "error",
          "traceback": [
            "\u001b[1;31mFailed to start the Kernel. \n",
            "\u001b[1;31mImportError: /home/aronbencsik/anaconda3/envs/cocotb/lib/python3.12/lib-dynload/_sqlite3.cpython-312-x86_64-linux-gnu.so: undefined symbol: sqlite3_deserialize. \n",
            "\u001b[1;31mView Jupyter <a href='command:jupyter.viewOutput'>log</a> for further details."
          ]
        }
      ],
      "source": [
        "import torch\n",
        "import snntorch as snn\n",
        "import snntorch.functional as SF\n",
        "from snntorch import RSynaptic\n",
        "from snntorch import spikeplot as splt\n",
        "import matplotlib.pyplot as plt\n",
        "import nir\n",
        "import torch\n",
        "import torch.nn as nn\n",
        "from torchviz import make_dot\n",
        "from IPython.display import Image\n",
        "\n",
        "import torch\n",
        "import torch.nn as nn\n",
        "import torch.optim as optim\n",
        "from torchview import draw_graph"
      ]
    },
    {
      "cell_type": "code",
      "execution_count": null,
      "metadata": {},
      "outputs": [
        {
          "ename": "",
          "evalue": "",
          "output_type": "error",
          "traceback": [
            "\u001b[1;31mFailed to start the Kernel. \n",
            "\u001b[1;31mImportError: /home/aronbencsik/anaconda3/envs/cocotb/lib/python3.12/lib-dynload/_sqlite3.cpython-312-x86_64-linux-gnu.so: undefined symbol: sqlite3_deserialize. \n",
            "\u001b[1;31mView Jupyter <a href='command:jupyter.viewOutput'>log</a> for further details."
          ]
        }
      ],
      "source": [
        "from model import SpikingNet\n",
        "from train import Trainer\n",
        "from options import Options\n",
        "from graph import Graph\n",
        "from mapping import Mapping"
      ]
    },
    {
      "cell_type": "markdown",
      "metadata": {
        "id": "N8P2qpOL-1c_"
      },
      "source": [
        "## Define model with modified RSynaptic"
      ]
    },
    {
      "cell_type": "code",
      "execution_count": null,
      "metadata": {
        "id": "FTqWglVClteW"
      },
      "outputs": [],
      "source": [
        "# Define network architecture\n",
        "# num_inputs = 2\n",
        "# num_hidden1 = 100\n",
        "# num_outputs = 2\n",
        "# num_steps = 100  # Number of simulation timesteps\n",
        "\n",
        "# class SpikingNet(torch.nn.Module):\n",
        "#     def __init__(self):\n",
        "#         super().__init__()\n",
        "\n",
        "#         # Initialize layers\n",
        "#         self.fc1 = nn.Linear(num_inputs, num_hidden1)\n",
        "#         self.fc1.__setattr__(\"bias\",None)\n",
        "#         # self.fc1.weight.data.fill_(0.01)  # Initialize all weights to 0.1\n",
        "#         self.lif1 = snn.RSynaptic(alpha=0.9, beta=0.9, linear_features=num_hidden1, reset_mechanism=\"subtract\", reset_delay=False, all_to_all=True)\n",
        "#         self.lif1.recurrent.__setattr__(\"bias\",None)\n",
        "#         # self.lif1.recurrent.weight.data.fill_(0.05)  # Initialize all recurrent weights to 0.1\n",
        "\n",
        "#         self.fc2 = nn.Linear(num_hidden1, num_outputs)\n",
        "#         self.fc2.__setattr__(\"bias\",None)\n",
        "#         # self.fc2.weight.data.fill_(0.05)  # Initialize all weights to 0.1\n",
        "#         self.lif2 = snn.Leaky(beta=0.9)\n",
        "\n",
        "#     def forward(self, x, indices_to_lock = None):\n",
        "\n",
        "#         def zero_and_lock_weights(layer, indices):\n",
        "#           # Step 2: Access and modify the weights at specified indices\n",
        "#           for idx in indices:\n",
        "#               layer.weight.data[idx] = 0\n",
        "\n",
        "#           # Function to zero out specific gradients\n",
        "#           def zero_out_grads(grad):\n",
        "#               for idx in indices:\n",
        "#                   grad[idx] = 0\n",
        "#               return grad\n",
        "\n",
        "#           # Step 3: Register the hook\n",
        "#           layer.weight.register_hook(zero_out_grads)\n",
        "\n",
        "#           return layer\n",
        "\n",
        "#         ##### Initialize hidden states at t=0 #####\n",
        "\n",
        "#         spk1, syn1, mem1 = self.lif1.init_rsynaptic()\n",
        "#         mem2 = self.lif2.init_leaky()\n",
        "\n",
        "#         # Record the spikes from the hidden layer (if needed)\n",
        "#         spk1_rec = [] # not necessarily needed for inference\n",
        "#         # Record the final layer\n",
        "#         spk2_rec = []\n",
        "#         mem2_rec = []\n",
        "\n",
        "#         if indices_to_lock is not None:\n",
        "\n",
        "#           # Zero out and lock the specified weights\n",
        "\n",
        "#           self.lif1.recurrent = zero_and_lock_weights(self.lif1.recurrent, indices_to_lock)\n",
        "\n",
        "#         for step in range(num_steps):\n",
        "#             ## Input layer\n",
        "#             cur1 = self.fc1(x[step])\n",
        "\n",
        "#             ### Recurrent layer\n",
        "#             spk1, syn1, mem1 = self.lif1(cur1, spk1, syn1, mem1)\n",
        "\n",
        "#             ### Output layer\n",
        "#             cur2 = self.fc2(spk1)\n",
        "#             spk2, mem2 = self.lif2(cur2, mem2)\n",
        "\n",
        "#             spk2_rec.append(spk2)\n",
        "#             mem2_rec.append(mem2)\n",
        "\n",
        "#         return torch.stack(spk2_rec, dim=0), torch.stack(mem2_rec, dim=0)\n",
        "opt = Options().parse()\n",
        "# Initialize the network\n",
        "net = SpikingNet()\n",
        "\n",
        "net.to(opt.device)"
      ]
    },
    {
      "cell_type": "code",
      "execution_count": null,
      "metadata": {
        "colab": {
          "base_uri": "https://localhost:8080/"
        },
        "id": "eJ2rbYu27s8g",
        "outputId": "fc0901e6-0d89-4ee0-9362-3620e063217e"
      },
      "outputs": [
        {
          "name": "stdout",
          "output_type": "stream",
          "text": [
            "Updated weights:\n",
            " tensor([[ 0.0384,  0.0000,  0.0590,  ..., -0.0952, -0.0724, -0.0199],\n",
            "        [ 0.0549, -0.0560,  0.0213,  ..., -0.0882, -0.0465, -0.0069],\n",
            "        [-0.0632,  0.0091,  0.0835,  ..., -0.0821, -0.0475,  0.0141],\n",
            "        ...,\n",
            "        [ 0.0769, -0.0282, -0.0615,  ..., -0.0440, -0.0028, -0.0326],\n",
            "        [ 0.0770, -0.0335, -0.0236,  ...,  0.0761, -0.0103,  0.0339],\n",
            "        [ 0.0767,  0.0044,  0.0267,  ...,  0.0073,  0.0475,  0.0541]])\n"
          ]
        }
      ],
      "source": [
        "torch.manual_seed(42)\n",
        "sample_data = torch.randn(opt.num_steps, opt.num_inputs)\n",
        "\n",
        "indices_to_lock = {\n",
        "    \"indices\" : ((0, 1), (90, 50)),\n",
        "    \"layers\"  : (\"lif1\",\"lif1\")}\n",
        "\n",
        "prediction, _ = net(sample_data, indices_to_lock[\"indices\"])\n",
        "\n",
        "print(\"Updated weights:\\n\", net.lif1.recurrent.weight.data)"
      ]
    },
    {
      "cell_type": "markdown",
      "metadata": {
        "id": "rZIY6NJm_DSY"
      },
      "source": [
        "## NIR Graph"
      ]
    },
    {
      "cell_type": "code",
      "execution_count": null,
      "metadata": {},
      "outputs": [],
      "source": [
        "gp = Graph(opt.num_steps, opt.num_inputs)\n",
        "gp.export_model(net)\n",
        "gp.extract_edges()\n",
        "gp.process_graph()"
      ]
    },
    {
      "cell_type": "code",
      "execution_count": null,
      "metadata": {
        "colab": {
          "base_uri": "https://localhost:8080/"
        },
        "collapsed": true,
        "id": "NncNpNFjg2-9",
        "outputId": "adcd5de8-71d9-41d5-db6a-3f135ae007c9"
      },
      "outputs": [
        {
          "name": "stderr",
          "output_type": "stream",
          "text": [
            "WARNING:root:removing self-connection ('lif1.lif', 'lif1.lif')\n"
          ]
        }
      ],
      "source": [
        "# torch.manual_seed(42)\n",
        "# sample_data = torch.randn(num_steps, num_inputs)\n",
        "\n",
        "# # Export to nir\n",
        "# nir_model = snn.export_to_nir(net, sample_data)\n",
        "\n",
        "# # Save to file\n",
        "# nir.write(\"nir_model.txt\", nir_model)"
      ]
    },
    {
      "cell_type": "code",
      "execution_count": 9,
      "metadata": {
        "colab": {
          "base_uri": "https://localhost:8080/"
        },
        "id": "fpE2X76AvOtR",
        "outputId": "dddd77d2-581e-40b0-b722-ce109f92585b"
      },
      "outputs": [
        {
          "name": "stdout",
          "output_type": "stream",
          "text": [
            "[('fc2', 'lif2'), ('lif2', 'output'), ('lif1.lif', 'lif1.w_rec'), ('input', 'fc1'), ('lif1.w_rec', 'lif1.lif'), ('fc1', 'lif1.lif'), ('lif1.lif', 'fc2')]\n"
          ]
        }
      ],
      "source": [
        "# import re\n",
        "\n",
        "# # Define the full text\n",
        "# text = str(nir_model)\n",
        "\n",
        "# # Extract the edges using a regular expression\n",
        "# edges_match = re.search(r\"edges=\\[(.*?)\\]\", text)\n",
        "# edges_str = edges_match.group(1) if edges_match else \"\"\n",
        "\n",
        "# # Convert the edges string to a list of tuples\n",
        "# edges = eval(f\"[{edges_str}]\")\n",
        "\n",
        "# print(edges)\n"
      ]
    },
    {
      "cell_type": "code",
      "execution_count": 10,
      "metadata": {
        "colab": {
          "base_uri": "https://localhost:8080/",
          "height": 612
        },
        "id": "y8gkjW4Iumg_",
        "outputId": "14bc47d8-d6f7-4a11-cae6-57381e8709e1"
      },
      "outputs": [
        {
          "name": "stdout",
          "output_type": "stream",
          "text": [
            "[('lif1.lif', 'lif1.w_rec')]\n",
            "Nodes: ['lif2', 'output', 'input', 'lif1']\n",
            "Edges: [('lif2', 'output'), ('input', 'lif1'), ('lif1', 'lif2'), ('lif1', 'lif1')]\n"
          ]
        },
        {
          "data": {
            "image/png": "[encoded data removed]",
            "text/plain": [
              "<Figure size 1000x600 with 1 Axes>"
            ]
          },
          "metadata": {},
          "output_type": "display_data"
        }
      ],
      "source": [
        "# import networkx as nx\n",
        "# import matplotlib.pyplot as plt\n",
        "\n",
        "# # Assuming edges is a predefined list of edges\n",
        "# G = nx.DiGraph(edges)  # Create a directed graph with the given edges\n",
        "\n",
        "# # Identify all fully connected (fc) nodes\n",
        "# fc_nodes = [node for node in G.nodes() if node.startswith('fc')]\n",
        "\n",
        "# # Process each fully connected node\n",
        "# for fc in fc_nodes:\n",
        "#     predecessors = list(G.predecessors(fc))  # List of predecessor nodes\n",
        "#     successors = list(G.successors(fc))      # List of successor nodes\n",
        "\n",
        "#     # Connect all predecessors to all successors, bypassing the fc node\n",
        "#     for pred in predecessors:\n",
        "#         for succ in successors:\n",
        "#             G.add_edge(pred, succ)\n",
        "\n",
        "#     G.remove_node(fc)  # Remove the fc node from the graph\n",
        "\n",
        "# # Identify recurrent edges (edges where there is a back edge creating a cycle)\n",
        "# recurrent_edges = [(u, v) for u, v in G.edges() if G.has_edge(v, u)]\n",
        "\n",
        "# # Remove duplicates from recurrent edges (since they are bidirectional)\n",
        "# for u, v in recurrent_edges:\n",
        "#     if (v, u) in recurrent_edges:\n",
        "#         recurrent_edges.remove((v, u))\n",
        "\n",
        "# # Print the recurrent edges\n",
        "# print(recurrent_edges)\n",
        "\n",
        "# # Process each recurrent edge\n",
        "# for u, v in recurrent_edges:\n",
        "#     if G.has_edge(u, v):\n",
        "#         G.remove_edge(u, v)  # Remove the edge from u to v\n",
        "#     if G.has_edge(v, u):\n",
        "#         G.remove_edge(v, u)  # Remove the edge from v to u\n",
        "\n",
        "#     # Determine which node to remove and which to keep (keep Lif remove rec)\n",
        "#     if G.has_node(v) and \"rec\" in v:\n",
        "#         x = v\n",
        "#         y = u\n",
        "#     else:\n",
        "#         x = u\n",
        "#         y = v\n",
        "\n",
        "#     G.remove_node(x)  # Remove the node x\n",
        "#     G.add_edge(y, y)  # Add a self-loop on node y\n",
        "\n",
        "#     # Relabel the node y to its base name\n",
        "#     mapping = {\n",
        "#         y: y.split('.')[0]\n",
        "#     }\n",
        "#     nx.relabel_nodes(G, mapping, copy=False)  # Relabel the nodes in place\n",
        "\n",
        "# # Print final nodes and edges\n",
        "# print(\"Nodes:\", G.nodes())\n",
        "# print(\"Edges:\", G.edges())\n",
        "\n",
        "# # Draw the graph\n",
        "# plt.figure(figsize=(10, 6))\n",
        "# pos = nx.spring_layout(G)  # Positions for all nodes\n",
        "# nx.draw(G, pos, with_labels=True, node_size=3100, node_color=\"blue\", font_size=10, font_weight=\"bold\", arrowsize=25, font_color=\"white\")\n",
        "\n",
        "# # Set the title and show the graph\n",
        "# plt.title(\"Computational Graph\")\n",
        "# plt.show()"
      ]
    },
    {
      "cell_type": "markdown",
      "metadata": {
        "id": "0zylUkn9BFvY"
      },
      "source": [
        "## Mapping"
      ]
    },
    {
      "cell_type": "code",
      "execution_count": null,
      "metadata": {},
      "outputs": [],
      "source": [
        "mapping = Mapping(net, opt.num_steps, opt.num_inputs, opt.core_capacity, indices_to_lock)\n",
        "#mem_potential_sizes = mapping.get_membrane_potential_sizes()\n",
        "for layer_name, size in mapping.mem_potential_sizes.items():\n",
        "    print(f\"Layer: {layer_name}, Number of neurons: {size}\")\n",
        "\n",
        "for layer_name, allocations in mapping.core_allocation.items():\n",
        "    print(f\"Layer: {layer_name}\")\n",
        "    for core_id, start_idx, end_idx in allocations:\n",
        "        print(f\"  Core {core_id}: start index = {start_idx}, end index = {end_idx}\")\n",
        "\n",
        "print(mapping.core_allocation)\n",
        "print(mapping.NIR_to_cores)\n",
        "print(mapping.neuron_to_core)\n",
        "print(mapping.buffer_map)"
      ]
    },
    {
      "cell_type": "markdown",
      "metadata": {
        "id": "DzbPSvS8dtA0"
      },
      "source": [
        "### Get \\# of neurons"
      ]
    },
    {
      "cell_type": "code",
      "execution_count": 11,
      "metadata": {
        "colab": {
          "base_uri": "https://localhost:8080/"
        },
        "id": "nlL5M5vHY6vW",
        "outputId": "b1160636-9979-4b7d-9c39-6f323116769e"
      },
      "outputs": [
        {
          "name": "stdout",
          "output_type": "stream",
          "text": [
            "Layer: lif1, Number of neurons: 100\n",
            "Layer: lif2, Number of neurons: 2\n"
          ]
        }
      ],
      "source": [
        "# def get_membrane_potential_sizes(model):\n",
        "#     sizes = {}\n",
        "#     for name, module in model.named_modules():\n",
        "#         if isinstance(module, snn.Synaptic):\n",
        "#             _, mem = module.init_leaky()\n",
        "#             sizes[name] = mem.size()[0]\n",
        "\n",
        "#         elif isinstance(module, snn.Leaky):\n",
        "#             mem = module.init_leaky()\n",
        "#             sizes[name] = mem.size()[0]\n",
        "\n",
        "#         elif isinstance(module, snn.RSynaptic):\n",
        "#             sizes[name] = module.linear_features\n",
        "\n",
        "#     return sizes\n",
        "\n",
        "# sample_data = torch.randn(num_steps, num_inputs)\n",
        "\n",
        "# prediction = net(sample_data)\n",
        "\n",
        "# # Get and print the membrane potential sizes\n",
        "# mem_potential_sizes = get_membrane_potential_sizes(net)\n",
        "# for layer_name, size in mem_potential_sizes.items():\n",
        "#     print(f\"Layer: {layer_name}, Number of neurons: {size}\")"
      ]
    },
    {
      "cell_type": "markdown",
      "metadata": {
        "id": "B8aXeYCCdzjd"
      },
      "source": [
        "### Partition neurons (mapping)"
      ]
    },
    {
      "cell_type": "code",
      "execution_count": 12,
      "metadata": {
        "colab": {
          "base_uri": "https://localhost:8080/"
        },
        "id": "fLgQyPf_dz0S",
        "outputId": "73f8997b-9101-4911-b239-29465cbec152"
      },
      "outputs": [
        {
          "name": "stdout",
          "output_type": "stream",
          "text": [
            "{'lif1': [(0, 0, 14), (1, 15, 29), (2, 30, 44), (3, 45, 59), (4, 60, 74), (5, 75, 89), (6, 90, 99)], 'lif2': [(7, 0, 1)]}\n",
            "{'lif1': [(0, 14), (1, 14), (2, 14), (3, 14), (4, 14), (5, 14), (6, 9)], 'lif2': [(7, 1)]}\n",
            "{'lif1-0': 0, 'lif1-1': 0, 'lif1-2': 0, 'lif1-3': 0, 'lif1-4': 0, 'lif1-5': 0, 'lif1-6': 0, 'lif1-7': 0, 'lif1-8': 0, 'lif1-9': 0, 'lif1-10': 0, 'lif1-11': 0, 'lif1-12': 0, 'lif1-13': 0, 'lif1-14': 0, 'lif1-15': 1, 'lif1-16': 1, 'lif1-17': 1, 'lif1-18': 1, 'lif1-19': 1, 'lif1-20': 1, 'lif1-21': 1, 'lif1-22': 1, 'lif1-23': 1, 'lif1-24': 1, 'lif1-25': 1, 'lif1-26': 1, 'lif1-27': 1, 'lif1-28': 1, 'lif1-29': 1, 'lif1-30': 2, 'lif1-31': 2, 'lif1-32': 2, 'lif1-33': 2, 'lif1-34': 2, 'lif1-35': 2, 'lif1-36': 2, 'lif1-37': 2, 'lif1-38': 2, 'lif1-39': 2, 'lif1-40': 2, 'lif1-41': 2, 'lif1-42': 2, 'lif1-43': 2, 'lif1-44': 2, 'lif1-45': 3, 'lif1-46': 3, 'lif1-47': 3, 'lif1-48': 3, 'lif1-49': 3, 'lif1-50': 3, 'lif1-51': 3, 'lif1-52': 3, 'lif1-53': 3, 'lif1-54': 3, 'lif1-55': 3, 'lif1-56': 3, 'lif1-57': 3, 'lif1-58': 3, 'lif1-59': 3, 'lif1-60': 4, 'lif1-61': 4, 'lif1-62': 4, 'lif1-63': 4, 'lif1-64': 4, 'lif1-65': 4, 'lif1-66': 4, 'lif1-67': 4, 'lif1-68': 4, 'lif1-69': 4, 'lif1-70': 4, 'lif1-71': 4, 'lif1-72': 4, 'lif1-73': 4, 'lif1-74': 4, 'lif1-75': 5, 'lif1-76': 5, 'lif1-77': 5, 'lif1-78': 5, 'lif1-79': 5, 'lif1-80': 5, 'lif1-81': 5, 'lif1-82': 5, 'lif1-83': 5, 'lif1-84': 5, 'lif1-85': 5, 'lif1-86': 5, 'lif1-87': 5, 'lif1-88': 5, 'lif1-89': 5, 'lif1-90': 6, 'lif1-91': 6, 'lif1-92': 6, 'lif1-93': 6, 'lif1-94': 6, 'lif1-95': 6, 'lif1-96': 6, 'lif1-97': 6, 'lif1-98': 6, 'lif1-99': 6, 'lif2-0': 7, 'lif2-1': 7}\n",
            "Layer: lif1\n",
            "  Core 0: start index = 0, end index = 14\n",
            "  Core 1: start index = 15, end index = 29\n",
            "  Core 2: start index = 30, end index = 44\n",
            "  Core 3: start index = 45, end index = 59\n",
            "  Core 4: start index = 60, end index = 74\n",
            "  Core 5: start index = 75, end index = 89\n",
            "  Core 6: start index = 90, end index = 99\n",
            "Layer: lif2\n",
            "  Core 7: start index = 0, end index = 1\n"
          ]
        }
      ],
      "source": [
        "# # Example core capacity\n",
        "# C = 15\n",
        "\n",
        "# # Allocate neurons to cores\n",
        "# def allocate_neurons_to_cores(mem_potential_sizes, core_capacity):\n",
        "#     core_allocation = {}\n",
        "#     NIR_to_cores = {}\n",
        "#     neuron_to_core = {}\n",
        "\n",
        "#     total_neurons = sum(mem_potential_sizes.values())\n",
        "\n",
        "#     core_id = 0\n",
        "#     core_start_index = 0\n",
        "#     current_core_neurons = 0\n",
        "\n",
        "#     layer_names = list(mem_potential_sizes.keys())\n",
        "#     last_layer_name = layer_names[-1]\n",
        "\n",
        "#     for layer_name, num_neurons in mem_potential_sizes.items():\n",
        "#         layer_start_index = core_start_index\n",
        "\n",
        "#         if layer_name == last_layer_name:\n",
        "#             if num_neurons > core_capacity :\n",
        "#                 raise Exception(\"Output layer does not fit in one core!\")\n",
        "\n",
        "#             # Ensure the last layer is in the same core\n",
        "#             core_id += 1\n",
        "#             core_start_index = 0\n",
        "#             current_core_neurons = 0\n",
        "#             layer_start_index = core_start_index\n",
        "#             layer_end_index = layer_start_index + num_neurons - 1\n",
        "#             core_allocation[layer_name] = [(core_id, layer_start_index, layer_end_index)]\n",
        "#             NIR_to_cores[layer_name] = [(core_id, layer_end_index - layer_start_index)]\n",
        "#             for neuron_id in range(layer_start_index, layer_end_index + 1):\n",
        "#                 neuron_to_core[layer_name+\"-\"+str(neuron_id)] = core_id\n",
        "#             break\n",
        "\n",
        "#         while num_neurons > 0:\n",
        "#             available_space = core_capacity - current_core_neurons\n",
        "#             neurons_to_allocate = min(num_neurons, available_space)\n",
        "\n",
        "#             layer_end_index = layer_start_index + neurons_to_allocate - 1\n",
        "\n",
        "#             if layer_name not in core_allocation:\n",
        "#                 core_allocation[layer_name] = []\n",
        "#                 NIR_to_cores[layer_name] = []\n",
        "\n",
        "#             core_allocation[layer_name].append((core_id, layer_start_index, layer_end_index))\n",
        "#             NIR_to_cores[layer_name].append((core_id, layer_end_index - layer_start_index))\n",
        "\n",
        "#             for neuron_id in range(layer_start_index, layer_end_index + 1):\n",
        "#                 neuron_to_core[layer_name +\"-\"+ str(neuron_id)] = core_id\n",
        "\n",
        "#             current_core_neurons += neurons_to_allocate\n",
        "#             layer_start_index += neurons_to_allocate\n",
        "#             num_neurons -= neurons_to_allocate\n",
        "\n",
        "#             if current_core_neurons == core_capacity:\n",
        "#                 core_id += 1\n",
        "#                 core_start_index = 0\n",
        "#                 current_core_neurons = 0\n",
        "#             else:\n",
        "#                 core_start_index = layer_start_index\n",
        "\n",
        "#     return core_allocation, NIR_to_cores, neuron_to_core\n",
        "\n",
        "# # Allocate neurons to cores\n",
        "# core_allocation, NIR_to_cores, neuron_to_core = allocate_neurons_to_cores(mem_potential_sizes, C)\n",
        "\n",
        "# print(core_allocation)\n",
        "# print(NIR_to_cores)\n",
        "# print(neuron_to_core)\n",
        "\n",
        "# # Print the core allocation\n",
        "# for layer_name, allocations in core_allocation.items():\n",
        "#     print(f\"Layer: {layer_name}\")\n",
        "#     for core_id, start_idx, end_idx in allocations:\n",
        "#         print(f\"  Core {core_id}: start index = {start_idx}, end index = {end_idx}\")"
      ]
    },
    {
      "cell_type": "markdown",
      "metadata": {
        "id": "OT1cy8CnsciX"
      },
      "source": [
        "### Partition removed recurrent connections"
      ]
    },
    {
      "cell_type": "code",
      "execution_count": 13,
      "metadata": {
        "colab": {
          "base_uri": "https://localhost:8080/"
        },
        "id": "0Z106m-2fdoe",
        "outputId": "7274f6ba-392d-4be0-9f8d-db7106d831dd"
      },
      "outputs": [
        {
          "name": "stdout",
          "output_type": "stream",
          "text": [
            "{'00': 1, '63': 1}\n"
          ]
        }
      ],
      "source": [
        "# def map_buffers(indices_to_lock):\n",
        "#   mapped_buffer = {}\n",
        "#   for indices in indices_to_lock['indices']:\n",
        "#     temp = \"\"\n",
        "#     for idx, layer_name in enumerate(indices_to_lock['layers']):\n",
        "#       temp += str(neuron_to_core[layer_name +\"-\"+ str(indices[idx])])\n",
        "\n",
        "#     if temp not in mapped_buffer:\n",
        "#       mapped_buffer[temp] = 1\n",
        "#     else:\n",
        "#       mapped_buffer[temp] += 1\n",
        "\n",
        "#   return mapped_buffer\n",
        "\n",
        "# buffer_map = map_buffers(indices_to_lock)\n",
        "\n",
        "# print(buffer_map)"
      ]
    },
    {
      "cell_type": "markdown",
      "metadata": {
        "id": "Oq1BkFyFftAn"
      },
      "source": [
        "## Train model"
      ]
    },
    {
      "cell_type": "code",
      "execution_count": null,
      "metadata": {},
      "outputs": [],
      "source": [
        "trainer = Trainer(net, num_epochs=150, learning_rate=1e-4, target_frequency=0.5, batch_size=16, num_steps=10)\n",
        "net = trainer.train(opt.device)"
      ]
    },
    {
      "cell_type": "code",
      "execution_count": null,
      "metadata": {
        "colab": {
          "base_uri": "https://localhost:8080/"
        },
        "id": "lpYx15k2frsP",
        "outputId": "ffb405de-c824-4ea1-88b3-f91965a9ce5d"
      },
      "outputs": [],
      "source": [
        "# # Define training parameters\n",
        "# num_epochs = 150\n",
        "# learning_rate = 1e-4\n",
        "# target_frequency = 0.5\n",
        "# batch_size = 16\n",
        "# optimizer = optim.Adam(net.parameters(), lr=learning_rate)\n",
        "# criterion = SF.mse_count_loss(correct_rate=1.0, incorrect_rate=0.5)\n",
        "\n",
        "# xor_inputs = torch.tensor([[0, 0], [0, 1], [1, 0], [1, 1]], dtype=torch.float32)\n",
        "# xor_targets = torch.tensor([[0], [1], [1], [0]], dtype=torch.float32)\n",
        "\n",
        "# spike_record = {}\n",
        "\n",
        "# # Create a function to generate spike trains for XOR inputs\n",
        "# def generate_spike_train(input_data, num_steps, spike_prob=0.5):\n",
        "#     spike_train = torch.zeros((num_steps, input_data.size(0), input_data.size(1)))\n",
        "#     for t in range(num_steps):\n",
        "#         spike_train[t] = (torch.rand(input_data.size()) < (input_data * spike_prob)).float()\n",
        "#     return spike_train\n",
        "\n",
        "# # Training loop\n",
        "# for epoch in range(num_epochs):\n",
        "#     # Generate random inputs\n",
        "#     # inputs = torch.rand(num_steps, num_inputs).to(device)\n",
        "\n",
        "#     indices = torch.randperm(4)\n",
        "#     inputs = xor_inputs[indices].to(device)\n",
        "#     target = xor_targets[indices].to(device)\n",
        "\n",
        "#     # Generate spike trains\n",
        "#     inputs = generate_spike_train(inputs, num_steps).to(device)\n",
        "\n",
        "#     # Forward pass\n",
        "#     outputs, _ = net(inputs)\n",
        "\n",
        "#     # Define target firing frequency\n",
        "#     # target = torch.tensor([1])\n",
        "#     target = target.squeeze(1)\n",
        "\n",
        "#     # Calculate loss\n",
        "#     loss = criterion(outputs, target)\n",
        "\n",
        "#     # Backward pass and optimization\n",
        "#     optimizer.zero_grad()\n",
        "#     loss.backward()\n",
        "#     optimizer.step()\n",
        "\n",
        "#     # Print loss\n",
        "#     if (epoch + 1) % 10 == 0:\n",
        "#       print(f\"Epoch [{epoch+1}/{num_epochs}], Loss: {loss.item():.4f}\")"
      ]
    },
    {
      "cell_type": "markdown",
      "metadata": {
        "id": "RFUiAk7n-vGF"
      },
      "source": [
        "##Record Spikes"
      ]
    },
    {
      "cell_type": "markdown",
      "metadata": {
        "id": "a_CYYRWNoIBo"
      },
      "source": [
        "### Register hooks"
      ]
    },
    {
      "cell_type": "code",
      "execution_count": 15,
      "metadata": {
        "id": "F7xiLuarmz9J"
      },
      "outputs": [],
      "source": [
        "# Dictionary to store spikes from each layer\n",
        "\n",
        "spike_record = {}\n",
        "hooks = []\n",
        "\n",
        "def reset_spike_record_and_hooks():\n",
        "  global spike_record, hooks\n",
        "\n",
        "  # Clear the spike_record dictionary\n",
        "  spike_record = {}\n",
        "\n",
        "  # Remove existing hooks if they are already registered\n",
        "  if 'hooks' in globals():\n",
        "    for hook in hooks:\n",
        "      hook.remove()\n",
        "      hooks = []\n",
        "\n",
        "# Function to create a hook that records spikes\n",
        "def create_spike_hook(layer_name):\n",
        "  def hook(module, input, output):\n",
        "    if layer_name not in spike_record:\n",
        "      spike_record[layer_name] = []\n",
        "    spike_record[layer_name].append(output[0].detach().cpu())\n",
        "  return hook\n",
        "\n",
        "reset_spike_record_and_hooks()\n",
        "\n",
        "# Attach hooks automatically to all Leaky layers\n",
        "for name, module in net.named_modules():\n",
        "  if isinstance(module, snn.Leaky) or isinstance(module, snn.RSynaptic):\n",
        "    hooks.append(module.register_forward_hook(create_spike_hook(name)))"
      ]
    },
    {
      "cell_type": "markdown",
      "metadata": {
        "id": "3o-JkTSioLeT"
      },
      "source": [
        "### Record spike trains"
      ]
    },
    {
      "cell_type": "code",
      "execution_count": 16,
      "metadata": {
        "colab": {
          "base_uri": "https://localhost:8080/",
          "height": 522
        },
        "id": "pcsEZyrfyzBe",
        "outputId": "4dd24b8e-0843-4fb9-ff6f-93f05094fa02"
      },
      "outputs": [
        {
          "name": "stdout",
          "output_type": "stream",
          "text": [
            "torch.Size([100, 100])\n",
            "torch.Size([100, 1, 2])\n"
          ]
        },
        {
          "data": {
            "image/png": "[encoded data removed]",
            "text/plain": [
              "<Figure size 1000x500 with 1 Axes>"
            ]
          },
          "metadata": {},
          "output_type": "display_data"
        }
      ],
      "source": [
        "import snntorch.spikeplot as splt\n",
        "import matplotlib.pyplot as plt\n",
        "\n",
        "# Dictionary to store spikes from each layer\n",
        "\n",
        "spike_record = {}\n",
        "hooks = []\n",
        "\n",
        "# Generate random input data\n",
        "indices = [1]\n",
        "inputs = trainer.xor_inputs[indices].to(opt.device)\n",
        "\n",
        "# Generate spike trains\n",
        "inputs = trainer.generate_spike_train(inputs, opt.num_steps).to(opt.device)\n",
        "\n",
        "output, _ = net(inputs)\n",
        "\n",
        "# Convert spike records to tensors for easier analysis\n",
        "for layer_name in spike_record:\n",
        "  spike_record[layer_name] = torch.squeeze(torch.stack(spike_record[layer_name]))\n",
        "\n",
        "print(spike_record['lif1'].shape)\n",
        "\n",
        "# # Plot spike rasters for all layers\n",
        "# num_layers = len(spike_record)\n",
        "# fig, ax = plt.subplots(num_layers, 1, figsize=(10, 4 * num_layers))\n",
        "\n",
        "\n",
        "fig = plt.figure(facecolor=\"w\", figsize=(10, 5))\n",
        "ax = fig.add_subplot(111)\n",
        "\n",
        "print(output.shape)\n",
        "\n",
        "#  s: size of scatter points; c: color of scatter points\n",
        "splt.raster(output.squeeze(1), ax, s=1.5, c=\"black\")\n",
        "plt.title(\"Output Layer\")\n",
        "plt.xlabel(\"Time step\")\n",
        "plt.ylabel(\"Neuron Number\")\n",
        "plt.show()"
      ]
    },
    {
      "cell_type": "code",
      "execution_count": null,
      "metadata": {
        "id": "rdGjWLzv3OC7"
      },
      "outputs": [],
      "source": [
        "if 'hooks' in globals():\n",
        "  for hook in hooks:\n",
        "    hook.remove()\n",
        "    hooks = []"
      ]
    },
    {
      "cell_type": "markdown",
      "metadata": {
        "id": "OF35g_rJs7on"
      },
      "source": [
        "## Construct Packets"
      ]
    },
    {
      "cell_type": "markdown",
      "metadata": {
        "id": "-diXBaU6A87_"
      },
      "source": [
        "### EXPERIMENTAL Dot product matrix"
      ]
    },
    {
      "cell_type": "markdown",
      "metadata": {
        "id": "OJDBdtf_blUx"
      },
      "source": [
        "#### create map"
      ]
    },
    {
      "cell_type": "code",
      "execution_count": 17,
      "metadata": {
        "colab": {
          "base_uri": "https://localhost:8080/"
        },
        "id": "lfSJZAOsBPG8",
        "outputId": "9688f105-d897-4798-bbf8-c3708015013a"
      },
      "outputs": [
        {
          "name": "stdout",
          "output_type": "stream",
          "text": [
            "tensor([[ 2557., 19217., 52838.,  ..., 62229., 38508., 47834.],\n",
            "        [ 2557., 19217., 52838.,  ..., 62229., 38508., 47834.],\n",
            "        [ 2557., 19217., 52838.,  ..., 62229., 38508., 47834.],\n",
            "        ...,\n",
            "        [ 2557., 19217., 52838.,  ..., 62229., 38508., 47834.],\n",
            "        [ 2557., 19217., 52838.,  ..., 62229., 38508., 47834.],\n",
            "        [ 2557., 19217., 52838.,  ..., 62229., 38508., 47834.]])\n",
            "{2557: [(0, [7, 0, 1, 2, 3, 4, 5, 6], 1), (0, [0, 1, 2, 3, 4, 5, 6], 8), (0, [0, 1, 2, 3, 4, 5], 4), (0, [1, 2, 3, 4, 5], 1)], 19217: [(0, [7, 0, 1, 2, 3, 4, 5, 6], 1), (0, [0, 1, 2, 3, 4, 5, 6], 8), (0, [0, 1, 2, 3, 4, 5], 4), (0, [1, 2, 3, 4, 5], 1)], 52838: [(0, [7, 0, 1, 2, 3, 4, 5, 6], 1), (0, [0, 1, 2, 3, 4, 5, 6], 8), (0, [0, 1, 2, 3, 4, 5], 4), (0, [1, 2, 3, 4, 5], 1)], 35258: [(0, [7, 0, 1, 2, 3, 4, 5, 6], 1), (0, [0, 1, 2, 3, 4, 5, 6], 8), (0, [0, 1, 2, 3, 4, 5], 4), (0, [1, 2, 3, 4, 5], 1)], 36695: [(0, [7, 0, 1, 2, 3, 4, 5, 6], 1), (0, [0, 1, 2, 3, 4, 5, 6], 8), (0, [0, 1, 2, 3, 4, 5], 4), (0, [1, 2, 3, 4, 5], 1)], 2865: [(0, [7, 0, 1, 2, 3, 4, 5, 6], 1), (0, [0, 1, 2, 3, 4, 5, 6], 8), (0, [0, 1, 2, 3, 4, 5], 4), (0, [1, 2, 3, 4, 5], 1)], 59987: [(0, [7, 0, 1, 2, 3, 4, 5, 6], 1), (0, [0, 1, 2, 3, 4, 5, 6], 8), (0, [0, 1, 2, 3, 4, 5], 4), (0, [1, 2, 3, 4, 5], 1)], 3922: [(0, [7, 0, 1, 2, 3, 4, 5, 6], 1), (0, [0, 1, 2, 3, 4, 5, 6], 8), (0, [0, 1, 2, 3, 4, 5], 4), (0, [1, 2, 3, 4, 5], 1)], 22167: [(0, [7, 0, 1, 2, 3, 4, 5, 6], 1), (0, [0, 1, 2, 3, 4, 5, 6], 8), (0, [0, 1, 2, 3, 4, 5], 4), (0, [1, 2, 3, 4, 5], 1)], 20504: [(0, [7, 0, 1, 2, 3, 4, 5, 6], 1), (0, [0, 1, 2, 3, 4, 5, 6], 8), (0, [0, 1, 2, 3, 4, 5], 4), (0, [1, 2, 3, 4, 5], 1)], 14893: [(0, [7, 0, 1, 2, 3, 4, 5, 6], 1), (0, [0, 1, 2, 3, 4, 5, 6], 8), (0, [0, 1, 2, 3, 4, 5], 4), (0, [1, 2, 3, 4, 5], 1)], 30107: [(0, [7, 0, 1, 2, 3, 4, 5, 6], 1), (0, [0, 1, 2, 3, 4, 5, 6], 8), (0, [0, 1, 2, 3, 4, 5], 4), (0, [1, 2, 3, 4, 5], 1)], 48084: [(0, [7, 0, 1, 2, 3, 4, 5, 6], 1), (0, [0, 1, 2, 3, 4, 5, 6], 8), (0, [0, 1, 2, 3, 4, 5], 4), (0, [1, 2, 3, 4, 5], 1)], 44262: [(0, [7, 0, 1, 2, 3, 4, 5, 6], 1), (0, [0, 1, 2, 3, 4, 5, 6], 8), (0, [0, 1, 2, 3, 4, 5], 4), (0, [1, 2, 3, 4, 5], 1)], 50308: [(0, [7, 0, 1, 2, 3, 4, 5, 6], 1), (0, [0, 1, 2, 3, 4, 5, 6], 8), (0, [0, 1, 2, 3, 4, 5], 4), (0, [1, 2, 3, 4, 5], 1)], 41981: [(1, [7, 0, 1, 2, 3, 4, 5, 6], 1), (1, [0, 1, 2, 3, 4, 5, 6], 8), (1, [0, 1, 2, 3, 4, 5], 5)], 22216: [(1, [7, 0, 1, 2, 3, 4, 5, 6], 1), (1, [0, 1, 2, 3, 4, 5, 6], 8), (1, [0, 1, 2, 3, 4, 5], 5)], 41607: [(1, [7, 0, 1, 2, 3, 4, 5, 6], 1), (1, [0, 1, 2, 3, 4, 5, 6], 8), (1, [0, 1, 2, 3, 4, 5], 5)], 1920: [(1, [7, 0, 1, 2, 3, 4, 5, 6], 1), (1, [0, 1, 2, 3, 4, 5, 6], 8), (1, [0, 1, 2, 3, 4, 5], 5)], 18958: [(1, [7, 0, 1, 2, 3, 4, 5, 6], 1), (1, [0, 1, 2, 3, 4, 5, 6], 8), (1, [0, 1, 2, 3, 4, 5], 5)], 60945: [(1, [7, 0, 1, 2, 3, 4, 5, 6], 1), (1, [0, 1, 2, 3, 4, 5, 6], 8), (1, [0, 1, 2, 3, 4, 5], 5)], 18700: [(1, [7, 0, 1, 2, 3, 4, 5, 6], 1), (1, [0, 1, 2, 3, 4, 5, 6], 8), (1, [0, 1, 2, 3, 4, 5], 5)], 24320: [(1, [7, 0, 1, 2, 3, 4, 5, 6], 1), (1, [0, 1, 2, 3, 4, 5, 6], 8), (1, [0, 1, 2, 3, 4, 5], 5)], 10255: [(1, [7, 0, 1, 2, 3, 4, 5, 6], 1), (1, [0, 1, 2, 3, 4, 5, 6], 8), (1, [0, 1, 2, 3, 4, 5], 5)], 24258: [(1, [7, 0, 1, 2, 3, 4, 5, 6], 1), (1, [0, 1, 2, 3, 4, 5, 6], 8), (1, [0, 1, 2, 3, 4, 5], 5)], 59673: [(1, [7, 0, 1, 2, 3, 4, 5, 6], 1), (1, [0, 1, 2, 3, 4, 5, 6], 8), (1, [0, 1, 2, 3, 4, 5], 5)], 54985: [(1, [7, 0, 1, 2, 3, 4, 5, 6], 1), (1, [0, 1, 2, 3, 4, 5, 6], 8), (1, [0, 1, 2, 3, 4, 5], 5)], 3006: [(1, [7, 0, 1, 2, 3, 4, 5, 6], 1), (1, [0, 1, 2, 3, 4, 5, 6], 8), (1, [0, 1, 2, 3, 4, 5], 5)], 58354: [(1, [7, 0, 1, 2, 3, 4, 5, 6], 1), (1, [0, 1, 2, 3, 4, 5, 6], 8), (1, [0, 1, 2, 3, 4, 5], 5)], 15002: [(1, [7, 0, 1, 2, 3, 4, 5, 6], 1), (1, [0, 1, 2, 3, 4, 5, 6], 8), (1, [0, 1, 2, 3, 4, 5], 5)], 56447: [(2, [7, 0, 1, 2, 3, 4, 5, 6], 1), (2, [0, 1, 2, 3, 4, 5, 6], 8), (2, [0, 1, 2, 3, 4, 5], 5)], 40692: [(2, [7, 0, 1, 2, 3, 4, 5, 6], 1), (2, [0, 1, 2, 3, 4, 5, 6], 8), (2, [0, 1, 2, 3, 4, 5], 5)], 10443: [(2, [7, 0, 1, 2, 3, 4, 5, 6], 1), (2, [0, 1, 2, 3, 4, 5, 6], 8), (2, [0, 1, 2, 3, 4, 5], 5)], 23726: [(2, [7, 0, 1, 2, 3, 4, 5, 6], 1), (2, [0, 1, 2, 3, 4, 5, 6], 8), (2, [0, 1, 2, 3, 4, 5], 5)], 26207: [(2, [7, 0, 1, 2, 3, 4, 5, 6], 1), (2, [0, 1, 2, 3, 4, 5, 6], 8), (2, [0, 1, 2, 3, 4, 5], 5)], 53372: [(2, [7, 0, 1, 2, 3, 4, 5, 6], 1), (2, [0, 1, 2, 3, 4, 5, 6], 8), (2, [0, 1, 2, 3, 4, 5], 5)], 62655: [(2, [7, 0, 1, 2, 3, 4, 5, 6], 1), (2, [0, 1, 2, 3, 4, 5, 6], 8), (2, [0, 1, 2, 3, 4, 5], 5)], 10061: [(2, [7, 0, 1, 2, 3, 4, 5, 6], 1), (2, [0, 1, 2, 3, 4, 5, 6], 8), (2, [0, 1, 2, 3, 4, 5], 5)], 56834: [(2, [7, 0, 1, 2, 3, 4, 5, 6], 1), (2, [0, 1, 2, 3, 4, 5, 6], 8), (2, [0, 1, 2, 3, 4, 5], 5)], 63684: [(2, [7, 0, 1, 2, 3, 4, 5, 6], 1), (2, [0, 1, 2, 3, 4, 5, 6], 8), (2, [0, 1, 2, 3, 4, 5], 5)], 6150: [(2, [7, 0, 1, 2, 3, 4, 5, 6], 1), (2, [0, 1, 2, 3, 4, 5, 6], 8), (2, [0, 1, 2, 3, 4, 5], 5)], 15835: [(2, [7, 0, 1, 2, 3, 4, 5, 6], 1), (2, [0, 1, 2, 3, 4, 5, 6], 8), (2, [0, 1, 2, 3, 4, 5], 5)], 27290: [(2, [7, 0, 1, 2, 3, 4, 5, 6], 1), (2, [0, 1, 2, 3, 4, 5, 6], 8), (2, [0, 1, 2, 3, 4, 5], 5)], 10736: [(2, [7, 0, 1, 2, 3, 4, 5, 6], 1), (2, [0, 1, 2, 3, 4, 5, 6], 8), (2, [0, 1, 2, 3, 4, 5], 5)], 63309: [(2, [7, 0, 1, 2, 3, 4, 5, 6], 1), (2, [0, 1, 2, 3, 4, 5, 6], 8), (2, [0, 1, 2, 3, 4, 5], 5)], 53733: [(3, [7, 0, 1, 2, 3, 4, 5, 6], 1), (3, [0, 1, 2, 3, 4, 5, 6], 8), (3, [0, 1, 2, 3, 4, 5], 5)], 17110: [(3, [7, 0, 1, 2, 3, 4, 5, 6], 1), (3, [0, 1, 2, 3, 4, 5, 6], 8), (3, [0, 1, 2, 3, 4, 5], 5)], 30160: [(3, [7, 0, 1, 2, 3, 4, 5, 6], 1), (3, [0, 1, 2, 3, 4, 5, 6], 8), (3, [0, 1, 2, 3, 4, 5], 5)], 48842: [(3, [7, 0, 1, 2, 3, 4, 5, 6], 1), (3, [0, 1, 2, 3, 4, 5, 6], 8), (3, [0, 1, 2, 3, 4, 5], 5)], 61152: [(3, [7, 0, 1, 2, 3, 4, 5, 6], 1), (3, [0, 1, 2, 3, 4, 5, 6], 8), (3, [0, 1, 2, 3, 4, 5], 5)], 47534: [(3, [7, 0, 1, 2, 3, 4, 5, 6], 1), (3, [0, 1, 2, 3, 4, 5, 6], 8), (3, [0, 1, 2, 3, 4, 5], 5)], 37514: [(3, [7, 0, 1, 2, 3, 4, 5, 6], 1), (3, [0, 1, 2, 3, 4, 5, 6], 8), (3, [0, 1, 2, 3, 4, 5], 5)], 531: [(3, [7, 0, 1, 2, 3, 4, 5, 6], 1), (3, [0, 1, 2, 3, 4, 5, 6], 8), (3, [0, 1, 2, 3, 4, 5], 5)], 52679: [(3, [7, 0, 1, 2, 3, 4, 5, 6], 1), (3, [0, 1, 2, 3, 4, 5, 6], 8), (3, [0, 1, 2, 3, 4, 5], 5)], 19584: [(3, [7, 0, 1, 2, 3, 4, 5, 6], 1), (3, [0, 1, 2, 3, 4, 5, 6], 8), (3, [0, 1, 2, 3, 4, 5], 5)], 28624: [(3, [7, 0, 1, 2, 3, 4, 5, 6], 1), (3, [0, 1, 2, 3, 4, 5, 6], 8), (3, [0, 1, 2, 3, 4, 5], 5)], 44013: [(3, [7, 0, 1, 2, 3, 4, 5, 6], 1), (3, [0, 1, 2, 3, 4, 5, 6], 8), (3, [0, 1, 2, 3, 4, 5], 5)], 36861: [(3, [7, 0, 1, 2, 3, 4, 5, 6], 1), (3, [0, 1, 2, 3, 4, 5, 6], 8), (3, [0, 1, 2, 3, 4, 5], 5)], 50195: [(3, [7, 0, 1, 2, 3, 4, 5, 6], 1), (3, [0, 1, 2, 3, 4, 5, 6], 8), (3, [0, 1, 2, 3, 4, 5], 5)], 18030: [(3, [7, 0, 1, 2, 3, 4, 5, 6], 1), (3, [0, 1, 2, 3, 4, 5, 6], 8), (3, [0, 1, 2, 3, 4, 5], 5)], 1239: [(4, [7, 0, 1, 2, 3, 4, 5, 6], 1), (4, [0, 1, 2, 3, 4, 5, 6], 8), (4, [0, 1, 2, 3, 4, 5], 5)], 5415: [(4, [7, 0, 1, 2, 3, 4, 5, 6], 1), (4, [0, 1, 2, 3, 4, 5, 6], 8), (4, [0, 1, 2, 3, 4, 5], 5)], 25635: [(4, [7, 0, 1, 2, 3, 4, 5, 6], 1), (4, [0, 1, 2, 3, 4, 5, 6], 8), (4, [0, 1, 2, 3, 4, 5], 5)], 55110: [(4, [7, 0, 1, 2, 3, 4, 5, 6], 1), (4, [0, 1, 2, 3, 4, 5, 6], 8), (4, [0, 1, 2, 3, 4, 5], 5)], 76: [(4, [7, 0, 1, 2, 3, 4, 5, 6], 1), (4, [0, 1, 2, 3, 4, 5, 6], 8), (4, [0, 1, 2, 3, 4, 5], 5)], 32664: [(4, [7, 0, 1, 2, 3, 4, 5, 6], 1), (4, [0, 1, 2, 3, 4, 5, 6], 8), (4, [0, 1, 2, 3, 4, 5], 5)], 49111: [(4, [7, 0, 1, 2, 3, 4, 5, 6], 1), (4, [0, 1, 2, 3, 4, 5, 6], 8), (4, [0, 1, 2, 3, 4, 5], 5)], 26031: [(4, [7, 0, 1, 2, 3, 4, 5, 6], 1), (4, [0, 1, 2, 3, 4, 5, 6], 8), (4, [0, 1, 2, 3, 4, 5], 5)], 24390: [(4, [7, 0, 1, 2, 3, 4, 5, 6], 1), (4, [0, 1, 2, 3, 4, 5, 6], 8), (4, [0, 1, 2, 3, 4, 5], 5)], 30122: [(4, [7, 0, 1, 2, 3, 4, 5, 6], 1), (4, [0, 1, 2, 3, 4, 5, 6], 8), (4, [0, 1, 2, 3, 4, 5], 5)], 8381: [(4, [7, 0, 1, 2, 3, 4, 5, 6], 1), (4, [0, 1, 2, 3, 4, 5, 6], 8), (4, [0, 1, 2, 3, 4, 5], 5)], 43883: [(4, [7, 0, 1, 2, 3, 4, 5, 6], 1), (4, [0, 1, 2, 3, 4, 5, 6], 8), (4, [0, 1, 2, 3, 4, 5], 5)], 12040: [(4, [7, 0, 1, 2, 3, 4, 5, 6], 1), (4, [0, 1, 2, 3, 4, 5, 6], 8), (4, [0, 1, 2, 3, 4, 5], 5)], 51181: [(4, [7, 0, 1, 2, 3, 4, 5, 6], 1), (4, [0, 1, 2, 3, 4, 5, 6], 8), (4, [0, 1, 2, 3, 4, 5], 5)], 41807: [(4, [7, 0, 1, 2, 3, 4, 5, 6], 1), (4, [0, 1, 2, 3, 4, 5, 6], 8), (4, [0, 1, 2, 3, 4, 5], 5)], 28246: [(5, [7, 0, 1, 2, 3, 4, 5, 6], 1), (5, [0, 1, 2, 3, 4, 5, 6], 8), (5, [0, 1, 2, 3, 4, 5], 5)], 55812: [(5, [7, 0, 1, 2, 3, 4, 5, 6], 1), (5, [0, 1, 2, 3, 4, 5, 6], 8), (5, [0, 1, 2, 3, 4, 5], 5)], 41751: [(5, [7, 0, 1, 2, 3, 4, 5, 6], 1), (5, [0, 1, 2, 3, 4, 5, 6], 8), (5, [0, 1, 2, 3, 4, 5], 5)], 1464: [(5, [7, 0, 1, 2, 3, 4, 5, 6], 1), (5, [0, 1, 2, 3, 4, 5, 6], 8), (5, [0, 1, 2, 3, 4, 5], 5)], 60225: [(5, [7, 0, 1, 2, 3, 4, 5, 6], 1), (5, [0, 1, 2, 3, 4, 5, 6], 8), (5, [0, 1, 2, 3, 4, 5], 5)], 26074: [(5, [7, 0, 1, 2, 3, 4, 5, 6], 1), (5, [0, 1, 2, 3, 4, 5, 6], 8), (5, [0, 1, 2, 3, 4, 5], 5)], 15318: [(5, [7, 0, 1, 2, 3, 4, 5, 6], 1), (5, [0, 1, 2, 3, 4, 5, 6], 8), (5, [0, 1, 2, 3, 4, 5], 5)], 8688: [(5, [7, 0, 1, 2, 3, 4, 5, 6], 1), (5, [0, 1, 2, 3, 4, 5, 6], 8), (5, [0, 1, 2, 3, 4, 5], 5)], 61114: [(5, [7, 0, 1, 2, 3, 4, 5, 6], 1), (5, [0, 1, 2, 3, 4, 5, 6], 8), (5, [0, 1, 2, 3, 4, 5], 5)], 2530: [(5, [7, 0, 1, 2, 3, 4, 5, 6], 1), (5, [0, 1, 2, 3, 4, 5, 6], 8), (5, [0, 1, 2, 3, 4, 5], 5)], 58597: [(5, [7, 0, 1, 2, 3, 4, 5, 6], 1), (5, [0, 1, 2, 3, 4, 5, 6], 8), (5, [0, 1, 2, 3, 4, 5], 5)], 45133: [(5, [7, 0, 1, 2, 3, 4, 5, 6], 1), (5, [0, 1, 2, 3, 4, 5, 6], 8), (5, [0, 1, 2, 3, 4, 5], 5)], 41165: [(5, [7, 0, 1, 2, 3, 4, 5, 6], 1), (5, [0, 1, 2, 3, 4, 5, 6], 8), (5, [0, 1, 2, 3, 4, 5], 5)], 52123: [(5, [7, 0, 1, 2, 3, 4, 5, 6], 1), (5, [0, 1, 2, 3, 4, 5, 6], 8), (5, [0, 1, 2, 3, 4, 5], 5)], 7772: [(5, [7, 0, 1, 2, 3, 4, 5, 6], 1), (5, [0, 1, 2, 3, 4, 5, 6], 8), (5, [0, 1, 2, 3, 4, 5], 5)], 12010: [(6, [7, 0, 1, 2, 3, 4, 5, 6], 1), (6, [0, 1, 2, 3, 4, 5, 6], 8), (6, [0, 1, 2, 3, 4, 5], 4), (6, [0, 1, 2, 4, 5], 1)], 15970: [(6, [7, 0, 1, 2, 3, 4, 5, 6], 1), (6, [0, 1, 2, 3, 4, 5, 6], 8), (6, [0, 1, 2, 3, 4, 5], 4), (6, [0, 1, 2, 4, 5], 1)], 5863: [(6, [7, 0, 1, 2, 3, 4, 5, 6], 1), (6, [0, 1, 2, 3, 4, 5, 6], 8), (6, [0, 1, 2, 3, 4, 5], 4), (6, [0, 1, 2, 4, 5], 1)], 33676: [(6, [7, 0, 1, 2, 3, 4, 5, 6], 1), (6, [0, 1, 2, 3, 4, 5, 6], 8), (6, [0, 1, 2, 3, 4, 5], 4), (6, [0, 1, 2, 4, 5], 1)], 61217: [(6, [7, 0, 1, 2, 3, 4, 5, 6], 1), (6, [0, 1, 2, 3, 4, 5, 6], 8), (6, [0, 1, 2, 3, 4, 5], 4), (6, [0, 1, 2, 4, 5], 1)], 43078: [(6, [7, 0, 1, 2, 3, 4, 5, 6], 1), (6, [0, 1, 2, 3, 4, 5, 6], 8), (6, [0, 1, 2, 3, 4, 5], 4), (6, [0, 1, 2, 4, 5], 1)], 9951: [(6, [7, 0, 1, 2, 3, 4, 5, 6], 1), (6, [0, 1, 2, 3, 4, 5, 6], 8), (6, [0, 1, 2, 3, 4, 5], 4), (6, [0, 1, 2, 4, 5], 1)], 62229: [(6, [7, 0, 1, 2, 3, 4, 5, 6], 1), (6, [0, 1, 2, 3, 4, 5, 6], 8), (6, [0, 1, 2, 3, 4, 5], 4), (6, [0, 1, 2, 4, 5], 1)], 38508: [(6, [7, 0, 1, 2, 3, 4, 5, 6], 1), (6, [0, 1, 2, 3, 4, 5, 6], 8), (6, [0, 1, 2, 3, 4, 5], 4), (6, [0, 1, 2, 4, 5], 1)], 47834: [(6, [7, 0, 1, 2, 3, 4, 5, 6], 1), (6, [0, 1, 2, 3, 4, 5, 6], 8), (6, [0, 1, 2, 3, 4, 5], 4), (6, [0, 1, 2, 4, 5], 1)]}\n"
          ]
        }
      ],
      "source": [
        "import hashlib\n",
        "\n",
        "def bundle_target_cores(source_core, target_cores, min_reps):\n",
        "  res = []\n",
        "  new_target_cores = []\n",
        "  for idx, (target_core, reps) in enumerate(target_cores):\n",
        "    res.append(target_core)\n",
        "    if reps - min_reps > 0:\n",
        "      new_target_cores.append((target_core, reps - min_reps))\n",
        "\n",
        "  return res, new_target_cores\n",
        "\n",
        "def remove_skipped_packets(source_core, target_cores, buffer_map):\n",
        "  new_target_cores = []\n",
        "  for idx, (target_core, reps) in enumerate(target_cores):\n",
        "    if str(source_core)+str(target_core) in buffer_map:\n",
        "      new_target_cores.append((target_core, reps - int(buffer_map[str(source_core)+str(target_core)])))\n",
        "    else:\n",
        "      new_target_cores.append((target_core, reps))\n",
        "\n",
        "  return new_target_cores\n",
        "\n",
        "routing_matrices = {}\n",
        "routing_map = {}\n",
        "\n",
        "for layer_name, size in mapping.mem_potential_sizes.items():\n",
        "  routing_matrix = torch.zeros((opt.num_steps, size))\n",
        "  for idx in range(size):\n",
        "    if layer_name not in routing_matrices:\n",
        "      routing_id = layer_name +\"-\"+ str(idx)\n",
        "      source_core = mapping.neuron_to_core[routing_id]\n",
        "\n",
        "      downstream_nodes = list(G.successors(layer_name))\n",
        "\n",
        "      target_cores = []\n",
        "      for downstream_node in downstream_nodes:\n",
        "        if downstream_node != \"output\":\n",
        "          target_cores.extend(mapping.NIR_to_cores[downstream_node])\n",
        "\n",
        "      # Remove skipped packets\n",
        "      target_cores = remove_skipped_packets(source_core, target_cores, mapping.buffer_map)\n",
        "      bundled_core_to_cores = []\n",
        "      while len(target_cores) > 0:\n",
        "        _, minimum = target_cores[0]\n",
        "        for target_core, reps in target_cores:\n",
        "          if reps < minimum:\n",
        "            minimum = reps\n",
        "\n",
        "        bcc, target_cores = bundle_target_cores(source_core, target_cores, minimum)\n",
        "        bundled_core_to_cores.append((bcc, minimum))\n",
        "      packet_information = []\n",
        "      for bcc, reps in bundled_core_to_cores:\n",
        "        packet_information.append((source_core, bcc, reps))\n",
        "        h = int(hashlib.shake_256(routing_id.encode()).hexdigest(2), 16)\n",
        "        routing_map[h] = packet_information\n",
        "        for t in range(opt.num_steps):\n",
        "          routing_matrix[t][idx] = h\n",
        "\n",
        "  routing_matrices[layer_name] = routing_matrix\n",
        "\n",
        "print(routing_matrices['lif1'])\n",
        "print(routing_map)\n"
      ]
    },
    {
      "cell_type": "markdown",
      "metadata": {
        "id": "NZbrozPdjkC-"
      },
      "source": [
        "#### perform dot product\n"
      ]
    },
    {
      "cell_type": "code",
      "execution_count": 18,
      "metadata": {
        "colab": {
          "base_uri": "https://localhost:8080/"
        },
        "id": "tubqCxtDbuTa",
        "outputId": "5c230c9f-91eb-42e5-facb-f89cb7497c9e"
      },
      "outputs": [
        {
          "name": "stdout",
          "output_type": "stream",
          "text": [
            "[[(0, [7, 0, 1, 2, 3, 4, 5, 6], 1), (0, [0, 1, 2, 3, 4, 5, 6], 8), (0, [0, 1, 2, 3, 4, 5], 4), (0, [1, 2, 3, 4, 5], 1)], [(0, [7, 0, 1, 2, 3, 4, 5, 6], 1), (0, [0, 1, 2, 3, 4, 5, 6], 8), (0, [0, 1, 2, 3, 4, 5], 4), (0, [1, 2, 3, 4, 5], 1)], [(0, [7, 0, 1, 2, 3, 4, 5, 6], 1), (0, [0, 1, 2, 3, 4, 5, 6], 8), (0, [0, 1, 2, 3, 4, 5], 4), (0, [1, 2, 3, 4, 5], 1)], [(1, [7, 0, 1, 2, 3, 4, 5, 6], 1), (1, [0, 1, 2, 3, 4, 5, 6], 8), (1, [0, 1, 2, 3, 4, 5], 5)], [(1, [7, 0, 1, 2, 3, 4, 5, 6], 1), (1, [0, 1, 2, 3, 4, 5, 6], 8), (1, [0, 1, 2, 3, 4, 5], 5)], [(2, [7, 0, 1, 2, 3, 4, 5, 6], 1), (2, [0, 1, 2, 3, 4, 5, 6], 8), (2, [0, 1, 2, 3, 4, 5], 5)], [(2, [7, 0, 1, 2, 3, 4, 5, 6], 1), (2, [0, 1, 2, 3, 4, 5, 6], 8), (2, [0, 1, 2, 3, 4, 5], 5)], [(2, [7, 0, 1, 2, 3, 4, 5, 6], 1), (2, [0, 1, 2, 3, 4, 5, 6], 8), (2, [0, 1, 2, 3, 4, 5], 5)], [(3, [7, 0, 1, 2, 3, 4, 5, 6], 1), (3, [0, 1, 2, 3, 4, 5, 6], 8), (3, [0, 1, 2, 3, 4, 5], 5)], [(4, [7, 0, 1, 2, 3, 4, 5, 6], 1), (4, [0, 1, 2, 3, 4, 5, 6], 8), (4, [0, 1, 2, 3, 4, 5], 5)], [(4, [7, 0, 1, 2, 3, 4, 5, 6], 1), (4, [0, 1, 2, 3, 4, 5, 6], 8), (4, [0, 1, 2, 3, 4, 5], 5)], [(5, [7, 0, 1, 2, 3, 4, 5, 6], 1), (5, [0, 1, 2, 3, 4, 5, 6], 8), (5, [0, 1, 2, 3, 4, 5], 5)], [(6, [7, 0, 1, 2, 3, 4, 5, 6], 1), (6, [0, 1, 2, 3, 4, 5, 6], 8), (6, [0, 1, 2, 3, 4, 5], 4), (6, [0, 1, 2, 4, 5], 1)]]\n"
          ]
        }
      ],
      "source": [
        "exp = torch.mul(routing_matrices['lif1'], spike_record['lif1'])\n",
        "\n",
        "temp = exp[1]\n",
        "non_zero_values = temp[temp != 0]\n",
        "\n",
        "packets = []\n",
        "for hashes in non_zero_values:\n",
        "  packets.append(routing_map[int(hashes)])\n",
        "\n",
        "print(packets)"
      ]
    }
  ],
  "metadata": {
    "colab": {
      "collapsed_sections": [
        "DzbPSvS8dtA0",
        "OT1cy8CnsciX"
      ],
      "provenance": []
    },
    "kernelspec": {
      "display_name": "Python 3",
      "name": "python3"
    },
    "language_info": {
      "name": "python",
      "version": "3.12.4"
    }
  },
  "nbformat": 4,
  "nbformat_minor": 0
}
